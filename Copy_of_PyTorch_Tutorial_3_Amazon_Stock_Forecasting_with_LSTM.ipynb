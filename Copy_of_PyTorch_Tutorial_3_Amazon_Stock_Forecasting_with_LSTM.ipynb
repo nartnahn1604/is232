{
  "cells": [
    {
      "cell_type": "code",
      "execution_count": 1,
      "id": "2a4fdd0f",
      "metadata": {
        "colab": {
          "base_uri": "https://localhost:8080/",
          "height": 423
        },
        "id": "2a4fdd0f",
        "outputId": "d758fb02-8b42-4705-d4bd-bcaa6df69ea7"
      },
      "outputs": [
        {
          "data": {
            "text/html": [
              "<div>\n",
              "<style scoped>\n",
              "    .dataframe tbody tr th:only-of-type {\n",
              "        vertical-align: middle;\n",
              "    }\n",
              "\n",
              "    .dataframe tbody tr th {\n",
              "        vertical-align: top;\n",
              "    }\n",
              "\n",
              "    .dataframe thead th {\n",
              "        text-align: right;\n",
              "    }\n",
              "</style>\n",
              "<table border=\"1\" class=\"dataframe\">\n",
              "  <thead>\n",
              "    <tr style=\"text-align: right;\">\n",
              "      <th></th>\n",
              "      <th>time</th>\n",
              "      <th>open</th>\n",
              "      <th>high</th>\n",
              "      <th>low</th>\n",
              "      <th>close</th>\n",
              "    </tr>\n",
              "  </thead>\n",
              "  <tbody>\n",
              "    <tr>\n",
              "      <th>0</th>\n",
              "      <td>2023-12-13T00:00:00</td>\n",
              "      <td>97.4</td>\n",
              "      <td>97.4</td>\n",
              "      <td>95.2</td>\n",
              "      <td>95.2</td>\n",
              "    </tr>\n",
              "    <tr>\n",
              "      <th>1</th>\n",
              "      <td>2023-12-12T00:00:00</td>\n",
              "      <td>95.4</td>\n",
              "      <td>96.8</td>\n",
              "      <td>95.3</td>\n",
              "      <td>96.8</td>\n",
              "    </tr>\n",
              "    <tr>\n",
              "      <th>2</th>\n",
              "      <td>2023-12-11T00:00:00</td>\n",
              "      <td>95.5</td>\n",
              "      <td>95.7</td>\n",
              "      <td>94.6</td>\n",
              "      <td>95.0</td>\n",
              "    </tr>\n",
              "    <tr>\n",
              "      <th>3</th>\n",
              "      <td>2023-12-08T00:00:00</td>\n",
              "      <td>94.3</td>\n",
              "      <td>95.1</td>\n",
              "      <td>93.5</td>\n",
              "      <td>94.2</td>\n",
              "    </tr>\n",
              "    <tr>\n",
              "      <th>4</th>\n",
              "      <td>2023-12-07T00:00:00</td>\n",
              "      <td>95.1</td>\n",
              "      <td>95.3</td>\n",
              "      <td>92.8</td>\n",
              "      <td>94.3</td>\n",
              "    </tr>\n",
              "    <tr>\n",
              "      <th>...</th>\n",
              "      <td>...</td>\n",
              "      <td>...</td>\n",
              "      <td>...</td>\n",
              "      <td>...</td>\n",
              "      <td>...</td>\n",
              "    </tr>\n",
              "    <tr>\n",
              "      <th>3475</th>\n",
              "      <td>2010-01-08T00:00:00</td>\n",
              "      <td>82.0</td>\n",
              "      <td>82.0</td>\n",
              "      <td>78.0</td>\n",
              "      <td>78.0</td>\n",
              "    </tr>\n",
              "    <tr>\n",
              "      <th>3476</th>\n",
              "      <td>2010-01-07T00:00:00</td>\n",
              "      <td>81.0</td>\n",
              "      <td>81.5</td>\n",
              "      <td>80.0</td>\n",
              "      <td>80.5</td>\n",
              "    </tr>\n",
              "    <tr>\n",
              "      <th>3477</th>\n",
              "      <td>2010-01-06T00:00:00</td>\n",
              "      <td>82.5</td>\n",
              "      <td>83.5</td>\n",
              "      <td>79.5</td>\n",
              "      <td>81.0</td>\n",
              "    </tr>\n",
              "    <tr>\n",
              "      <th>3478</th>\n",
              "      <td>2010-01-05T00:00:00</td>\n",
              "      <td>85.5</td>\n",
              "      <td>85.5</td>\n",
              "      <td>82.5</td>\n",
              "      <td>82.5</td>\n",
              "    </tr>\n",
              "    <tr>\n",
              "      <th>3479</th>\n",
              "      <td>2010-01-04T00:00:00</td>\n",
              "      <td>81.0</td>\n",
              "      <td>82.5</td>\n",
              "      <td>79.0</td>\n",
              "      <td>82.5</td>\n",
              "    </tr>\n",
              "  </tbody>\n",
              "</table>\n",
              "<p>3480 rows × 5 columns</p>\n",
              "</div>"
            ],
            "text/plain": [
              "                     time  open  high   low  close\n",
              "0     2023-12-13T00:00:00  97.4  97.4  95.2   95.2\n",
              "1     2023-12-12T00:00:00  95.4  96.8  95.3   96.8\n",
              "2     2023-12-11T00:00:00  95.5  95.7  94.6   95.0\n",
              "3     2023-12-08T00:00:00  94.3  95.1  93.5   94.2\n",
              "4     2023-12-07T00:00:00  95.1  95.3  92.8   94.3\n",
              "...                   ...   ...   ...   ...    ...\n",
              "3475  2010-01-08T00:00:00  82.0  82.0  78.0   78.0\n",
              "3476  2010-01-07T00:00:00  81.0  81.5  80.0   80.5\n",
              "3477  2010-01-06T00:00:00  82.5  83.5  79.5   81.0\n",
              "3478  2010-01-05T00:00:00  85.5  85.5  82.5   82.5\n",
              "3479  2010-01-04T00:00:00  81.0  82.5  79.0   82.5\n",
              "\n",
              "[3480 rows x 5 columns]"
            ]
          },
          "execution_count": 1,
          "metadata": {},
          "output_type": "execute_result"
        }
      ],
      "source": [
        "import pandas as pd\n",
        "import numpy as np\n",
        "import matplotlib.pyplot as plt\n",
        "\n",
        "import torch\n",
        "import torch.nn as nn\n",
        "\n",
        "data = pd.read_csv('test.csv')\n",
        "\n",
        "data"
      ]
    },
    {
      "cell_type": "code",
      "execution_count": 2,
      "id": "WtCP8-cDbg9R",
      "metadata": {
        "colab": {
          "base_uri": "https://localhost:8080/",
          "height": 423
        },
        "id": "WtCP8-cDbg9R",
        "outputId": "1a923823-8c15-4765-c9c9-19a233dc8131"
      },
      "outputs": [
        {
          "data": {
            "text/html": [
              "<div>\n",
              "<style scoped>\n",
              "    .dataframe tbody tr th:only-of-type {\n",
              "        vertical-align: middle;\n",
              "    }\n",
              "\n",
              "    .dataframe tbody tr th {\n",
              "        vertical-align: top;\n",
              "    }\n",
              "\n",
              "    .dataframe thead th {\n",
              "        text-align: right;\n",
              "    }\n",
              "</style>\n",
              "<table border=\"1\" class=\"dataframe\">\n",
              "  <thead>\n",
              "    <tr style=\"text-align: right;\">\n",
              "      <th></th>\n",
              "      <th>time</th>\n",
              "      <th>close</th>\n",
              "    </tr>\n",
              "  </thead>\n",
              "  <tbody>\n",
              "    <tr>\n",
              "      <th>0</th>\n",
              "      <td>2023-12-13T00:00:00</td>\n",
              "      <td>95.2</td>\n",
              "    </tr>\n",
              "    <tr>\n",
              "      <th>1</th>\n",
              "      <td>2023-12-12T00:00:00</td>\n",
              "      <td>96.8</td>\n",
              "    </tr>\n",
              "    <tr>\n",
              "      <th>2</th>\n",
              "      <td>2023-12-11T00:00:00</td>\n",
              "      <td>95.0</td>\n",
              "    </tr>\n",
              "    <tr>\n",
              "      <th>3</th>\n",
              "      <td>2023-12-08T00:00:00</td>\n",
              "      <td>94.2</td>\n",
              "    </tr>\n",
              "    <tr>\n",
              "      <th>4</th>\n",
              "      <td>2023-12-07T00:00:00</td>\n",
              "      <td>94.3</td>\n",
              "    </tr>\n",
              "    <tr>\n",
              "      <th>...</th>\n",
              "      <td>...</td>\n",
              "      <td>...</td>\n",
              "    </tr>\n",
              "    <tr>\n",
              "      <th>3475</th>\n",
              "      <td>2010-01-08T00:00:00</td>\n",
              "      <td>78.0</td>\n",
              "    </tr>\n",
              "    <tr>\n",
              "      <th>3476</th>\n",
              "      <td>2010-01-07T00:00:00</td>\n",
              "      <td>80.5</td>\n",
              "    </tr>\n",
              "    <tr>\n",
              "      <th>3477</th>\n",
              "      <td>2010-01-06T00:00:00</td>\n",
              "      <td>81.0</td>\n",
              "    </tr>\n",
              "    <tr>\n",
              "      <th>3478</th>\n",
              "      <td>2010-01-05T00:00:00</td>\n",
              "      <td>82.5</td>\n",
              "    </tr>\n",
              "    <tr>\n",
              "      <th>3479</th>\n",
              "      <td>2010-01-04T00:00:00</td>\n",
              "      <td>82.5</td>\n",
              "    </tr>\n",
              "  </tbody>\n",
              "</table>\n",
              "<p>3480 rows × 2 columns</p>\n",
              "</div>"
            ],
            "text/plain": [
              "                     time  close\n",
              "0     2023-12-13T00:00:00   95.2\n",
              "1     2023-12-12T00:00:00   96.8\n",
              "2     2023-12-11T00:00:00   95.0\n",
              "3     2023-12-08T00:00:00   94.2\n",
              "4     2023-12-07T00:00:00   94.3\n",
              "...                   ...    ...\n",
              "3475  2010-01-08T00:00:00   78.0\n",
              "3476  2010-01-07T00:00:00   80.5\n",
              "3477  2010-01-06T00:00:00   81.0\n",
              "3478  2010-01-05T00:00:00   82.5\n",
              "3479  2010-01-04T00:00:00   82.5\n",
              "\n",
              "[3480 rows x 2 columns]"
            ]
          },
          "execution_count": 2,
          "metadata": {},
          "output_type": "execute_result"
        }
      ],
      "source": [
        "data = data[['time', 'close']]\n",
        "data"
      ]
    },
    {
      "cell_type": "code",
      "execution_count": 3,
      "id": "9akB333XcFJ6",
      "metadata": {
        "colab": {
          "base_uri": "https://localhost:8080/",
          "height": 36
        },
        "id": "9akB333XcFJ6",
        "outputId": "2e8630de-1369-4281-d87c-9634ed90ba97"
      },
      "outputs": [
        {
          "data": {
            "text/plain": [
              "'cpu'"
            ]
          },
          "execution_count": 3,
          "metadata": {},
          "output_type": "execute_result"
        }
      ],
      "source": [
        "device = 'cuda:0' if torch.cuda.is_available() else 'cpu'\n",
        "device"
      ]
    },
    {
      "cell_type": "code",
      "execution_count": 4,
      "id": "tr2YuqKGcXcJ",
      "metadata": {
        "colab": {
          "base_uri": "https://localhost:8080/",
          "height": 551
        },
        "id": "tr2YuqKGcXcJ",
        "outputId": "bd197a93-bf7f-413c-fac0-5f4dc1a8471d"
      },
      "outputs": [
        {
          "name": "stderr",
          "output_type": "stream",
          "text": [
            "C:\\Users\\NRH3HC\\AppData\\Local\\Temp\\ipykernel_27300\\4164339735.py:1: SettingWithCopyWarning: \n",
            "A value is trying to be set on a copy of a slice from a DataFrame.\n",
            "Try using .loc[row_indexer,col_indexer] = value instead\n",
            "\n",
            "See the caveats in the documentation: https://pandas.pydata.org/pandas-docs/stable/user_guide/indexing.html#returning-a-view-versus-a-copy\n",
            "  data['time'] = pd.to_datetime(data['time'])\n"
          ]
        },
        {
          "data": {
            "text/plain": [
              "[<matplotlib.lines.Line2D at 0x1df4e68d290>]"
            ]
          },
          "execution_count": 4,
          "metadata": {},
          "output_type": "execute_result"
        },
        {
          "data": {
            "image/png": "[encoded data removed]",
            "text/plain": [
              "<Figure size 640x480 with 1 Axes>"
            ]
          },
          "metadata": {},
          "output_type": "display_data"
        }
      ],
      "source": [
        "data['time'] = pd.to_datetime(data['time'])\n",
        "\n",
        "plt.plot(data['time'], data['close'])"
      ]
    },
    {
      "cell_type": "code",
      "execution_count": 5,
      "id": "Q4ma6QCscwfB",
      "metadata": {
        "colab": {
          "base_uri": "https://localhost:8080/",
          "height": 455
        },
        "id": "Q4ma6QCscwfB",
        "outputId": "61bd4c08-c3f7-453d-ed92-c2232a18a5ba"
      },
      "outputs": [
        {
          "data": {
            "text/html": [
              "<div>\n",
              "<style scoped>\n",
              "    .dataframe tbody tr th:only-of-type {\n",
              "        vertical-align: middle;\n",
              "    }\n",
              "\n",
              "    .dataframe tbody tr th {\n",
              "        vertical-align: top;\n",
              "    }\n",
              "\n",
              "    .dataframe thead th {\n",
              "        text-align: right;\n",
              "    }\n",
              "</style>\n",
              "<table border=\"1\" class=\"dataframe\">\n",
              "  <thead>\n",
              "    <tr style=\"text-align: right;\">\n",
              "      <th></th>\n",
              "      <th>close</th>\n",
              "      <th>Close(t-1)</th>\n",
              "      <th>Close(t-2)</th>\n",
              "      <th>Close(t-3)</th>\n",
              "      <th>Close(t-4)</th>\n",
              "      <th>Close(t-5)</th>\n",
              "      <th>Close(t-6)</th>\n",
              "      <th>Close(t-7)</th>\n",
              "    </tr>\n",
              "    <tr>\n",
              "      <th>time</th>\n",
              "      <th></th>\n",
              "      <th></th>\n",
              "      <th></th>\n",
              "      <th></th>\n",
              "      <th></th>\n",
              "      <th></th>\n",
              "      <th></th>\n",
              "      <th></th>\n",
              "    </tr>\n",
              "  </thead>\n",
              "  <tbody>\n",
              "    <tr>\n",
              "      <th>2023-12-04</th>\n",
              "      <td>93.6</td>\n",
              "      <td>94.8</td>\n",
              "      <td>95.0</td>\n",
              "      <td>94.3</td>\n",
              "      <td>94.2</td>\n",
              "      <td>95.0</td>\n",
              "      <td>96.8</td>\n",
              "      <td>95.2</td>\n",
              "    </tr>\n",
              "    <tr>\n",
              "      <th>2023-12-01</th>\n",
              "      <td>92.4</td>\n",
              "      <td>93.6</td>\n",
              "      <td>94.8</td>\n",
              "      <td>95.0</td>\n",
              "      <td>94.3</td>\n",
              "      <td>94.2</td>\n",
              "      <td>95.0</td>\n",
              "      <td>96.8</td>\n",
              "    </tr>\n",
              "    <tr>\n",
              "      <th>2023-11-30</th>\n",
              "      <td>91.9</td>\n",
              "      <td>92.4</td>\n",
              "      <td>93.6</td>\n",
              "      <td>94.8</td>\n",
              "      <td>95.0</td>\n",
              "      <td>94.3</td>\n",
              "      <td>94.2</td>\n",
              "      <td>95.0</td>\n",
              "    </tr>\n",
              "    <tr>\n",
              "      <th>2023-11-29</th>\n",
              "      <td>91.7</td>\n",
              "      <td>91.9</td>\n",
              "      <td>92.4</td>\n",
              "      <td>93.6</td>\n",
              "      <td>94.8</td>\n",
              "      <td>95.0</td>\n",
              "      <td>94.3</td>\n",
              "      <td>94.2</td>\n",
              "    </tr>\n",
              "    <tr>\n",
              "      <th>2023-11-28</th>\n",
              "      <td>91.1</td>\n",
              "      <td>91.7</td>\n",
              "      <td>91.9</td>\n",
              "      <td>92.4</td>\n",
              "      <td>93.6</td>\n",
              "      <td>94.8</td>\n",
              "      <td>95.0</td>\n",
              "      <td>94.3</td>\n",
              "    </tr>\n",
              "    <tr>\n",
              "      <th>...</th>\n",
              "      <td>...</td>\n",
              "      <td>...</td>\n",
              "      <td>...</td>\n",
              "      <td>...</td>\n",
              "      <td>...</td>\n",
              "      <td>...</td>\n",
              "      <td>...</td>\n",
              "      <td>...</td>\n",
              "    </tr>\n",
              "    <tr>\n",
              "      <th>2010-01-08</th>\n",
              "      <td>78.0</td>\n",
              "      <td>77.5</td>\n",
              "      <td>76.0</td>\n",
              "      <td>78.5</td>\n",
              "      <td>79.0</td>\n",
              "      <td>77.5</td>\n",
              "      <td>76.0</td>\n",
              "      <td>77.5</td>\n",
              "    </tr>\n",
              "    <tr>\n",
              "      <th>2010-01-07</th>\n",
              "      <td>80.5</td>\n",
              "      <td>78.0</td>\n",
              "      <td>77.5</td>\n",
              "      <td>76.0</td>\n",
              "      <td>78.5</td>\n",
              "      <td>79.0</td>\n",
              "      <td>77.5</td>\n",
              "      <td>76.0</td>\n",
              "    </tr>\n",
              "    <tr>\n",
              "      <th>2010-01-06</th>\n",
              "      <td>81.0</td>\n",
              "      <td>80.5</td>\n",
              "      <td>78.0</td>\n",
              "      <td>77.5</td>\n",
              "      <td>76.0</td>\n",
              "      <td>78.5</td>\n",
              "      <td>79.0</td>\n",
              "      <td>77.5</td>\n",
              "    </tr>\n",
              "    <tr>\n",
              "      <th>2010-01-05</th>\n",
              "      <td>82.5</td>\n",
              "      <td>81.0</td>\n",
              "      <td>80.5</td>\n",
              "      <td>78.0</td>\n",
              "      <td>77.5</td>\n",
              "      <td>76.0</td>\n",
              "      <td>78.5</td>\n",
              "      <td>79.0</td>\n",
              "    </tr>\n",
              "    <tr>\n",
              "      <th>2010-01-04</th>\n",
              "      <td>82.5</td>\n",
              "      <td>82.5</td>\n",
              "      <td>81.0</td>\n",
              "      <td>80.5</td>\n",
              "      <td>78.0</td>\n",
              "      <td>77.5</td>\n",
              "      <td>76.0</td>\n",
              "      <td>78.5</td>\n",
              "    </tr>\n",
              "  </tbody>\n",
              "</table>\n",
              "<p>3473 rows × 8 columns</p>\n",
              "</div>"
            ],
            "text/plain": [
              "            close  Close(t-1)  Close(t-2)  Close(t-3)  Close(t-4)  Close(t-5)  \\\n",
              "time                                                                            \n",
              "2023-12-04   93.6        94.8        95.0        94.3        94.2        95.0   \n",
              "2023-12-01   92.4        93.6        94.8        95.0        94.3        94.2   \n",
              "2023-11-30   91.9        92.4        93.6        94.8        95.0        94.3   \n",
              "2023-11-29   91.7        91.9        92.4        93.6        94.8        95.0   \n",
              "2023-11-28   91.1        91.7        91.9        92.4        93.6        94.8   \n",
              "...           ...         ...         ...         ...         ...         ...   \n",
              "2010-01-08   78.0        77.5        76.0        78.5        79.0        77.5   \n",
              "2010-01-07   80.5        78.0        77.5        76.0        78.5        79.0   \n",
              "2010-01-06   81.0        80.5        78.0        77.5        76.0        78.5   \n",
              "2010-01-05   82.5        81.0        80.5        78.0        77.5        76.0   \n",
              "2010-01-04   82.5        82.5        81.0        80.5        78.0        77.5   \n",
              "\n",
              "            Close(t-6)  Close(t-7)  \n",
              "time                                \n",
              "2023-12-04        96.8        95.2  \n",
              "2023-12-01        95.0        96.8  \n",
              "2023-11-30        94.2        95.0  \n",
              "2023-11-29        94.3        94.2  \n",
              "2023-11-28        95.0        94.3  \n",
              "...                ...         ...  \n",
              "2010-01-08        76.0        77.5  \n",
              "2010-01-07        77.5        76.0  \n",
              "2010-01-06        79.0        77.5  \n",
              "2010-01-05        78.5        79.0  \n",
              "2010-01-04        76.0        78.5  \n",
              "\n",
              "[3473 rows x 8 columns]"
            ]
          },
          "execution_count": 5,
          "metadata": {},
          "output_type": "execute_result"
        }
      ],
      "source": [
        "from copy import deepcopy as dc\n",
        "\n",
        "def prepare_dataframe_for_lstm(df, n_steps):\n",
        "    df = dc(df)\n",
        "\n",
        "    df.set_index('time', inplace=True)\n",
        "\n",
        "    for i in range(1, n_steps+1):\n",
        "        df[f'Close(t-{i})'] = df['close'].shift(i)\n",
        "\n",
        "    df.dropna(inplace=True)\n",
        "\n",
        "    return df\n",
        "\n",
        "lookback = 7\n",
        "shifted_df = prepare_dataframe_for_lstm(data, lookback)\n",
        "shifted_df"
      ]
    },
    {
      "cell_type": "code",
      "execution_count": 6,
      "id": "yWcD1tHjfAU-",
      "metadata": {
        "colab": {
          "base_uri": "https://localhost:8080/"
        },
        "id": "yWcD1tHjfAU-",
        "outputId": "e10f8cdf-7b44-4c1a-d0a2-9007aac1685c"
      },
      "outputs": [
        {
          "data": {
            "text/plain": [
              "array([[93.6, 94.8, 95. , ..., 95. , 96.8, 95.2],\n",
              "       [92.4, 93.6, 94.8, ..., 94.2, 95. , 96.8],\n",
              "       [91.9, 92.4, 93.6, ..., 94.3, 94.2, 95. ],\n",
              "       ...,\n",
              "       [81. , 80.5, 78. , ..., 78.5, 79. , 77.5],\n",
              "       [82.5, 81. , 80.5, ..., 76. , 78.5, 79. ],\n",
              "       [82.5, 82.5, 81. , ..., 77.5, 76. , 78.5]])"
            ]
          },
          "execution_count": 6,
          "metadata": {},
          "output_type": "execute_result"
        }
      ],
      "source": [
        "shifted_df_as_np = shifted_df.to_numpy()\n",
        "\n",
        "shifted_df_as_np"
      ]
    },
    {
      "cell_type": "code",
      "execution_count": 7,
      "id": "Pq2p3opGELA_",
      "metadata": {
        "colab": {
          "base_uri": "https://localhost:8080/"
        },
        "id": "Pq2p3opGELA_",
        "outputId": "5cb2ff07-5d8f-4117-eafd-6a3c5663c6ff"
      },
      "outputs": [
        {
          "data": {
            "text/plain": [
              "(3473, 8)"
            ]
          },
          "execution_count": 7,
          "metadata": {},
          "output_type": "execute_result"
        }
      ],
      "source": [
        "shifted_df_as_np.shape"
      ]
    },
    {
      "cell_type": "code",
      "execution_count": 8,
      "id": "pXHkuFeafNUU",
      "metadata": {
        "colab": {
          "base_uri": "https://localhost:8080/"
        },
        "id": "pXHkuFeafNUU",
        "outputId": "a67d1f79-d279-4c96-e40f-0d9a5f9f7d7d"
      },
      "outputs": [
        {
          "data": {
            "text/plain": [
              "array([[0.45432977, 0.48279953, 0.48754448, ..., 0.48754448, 0.53024911,\n",
              "        0.49228944],\n",
              "       [0.42586002, 0.45432977, 0.48279953, ..., 0.46856465, 0.48754448,\n",
              "        0.53024911],\n",
              "       [0.41399763, 0.42586002, 0.45432977, ..., 0.47093713, 0.46856465,\n",
              "        0.48754448],\n",
              "       ...,\n",
              "       [0.15539739, 0.14353499, 0.08422301, ..., 0.09608541, 0.10794781,\n",
              "        0.07236062],\n",
              "       [0.19098458, 0.15539739, 0.14353499, ..., 0.03677343, 0.09608541,\n",
              "        0.10794781],\n",
              "       [0.19098458, 0.19098458, 0.15539739, ..., 0.07236062, 0.03677343,\n",
              "        0.09608541]])"
            ]
          },
          "execution_count": 8,
          "metadata": {},
          "output_type": "execute_result"
        }
      ],
      "source": [
        "from sklearn.preprocessing import MinMaxScaler\n",
        "\n",
        "scaler = MinMaxScaler(feature_range=(-1, 1))\n",
        "shifted_df_as_np = scaler.fit_transform(shifted_df_as_np)\n",
        "\n",
        "shifted_df_as_np"
      ]
    },
    {
      "cell_type": "code",
      "execution_count": 9,
      "id": "Iui9unuTfxOe",
      "metadata": {
        "colab": {
          "base_uri": "https://localhost:8080/"
        },
        "id": "Iui9unuTfxOe",
        "outputId": "642f093d-5071-43ef-fb9c-4c54061aec3e"
      },
      "outputs": [
        {
          "data": {
            "text/plain": [
              "((3473, 7), (3473,))"
            ]
          },
          "execution_count": 9,
          "metadata": {},
          "output_type": "execute_result"
        }
      ],
      "source": [
        "X = shifted_df_as_np[:, 1:]\n",
        "y = shifted_df_as_np[:, 0]\n",
        "\n",
        "X.shape, y.shape"
      ]
    },
    {
      "cell_type": "code",
      "execution_count": 10,
      "id": "XmbIqwj-E0cv",
      "metadata": {
        "colab": {
          "base_uri": "https://localhost:8080/"
        },
        "id": "XmbIqwj-E0cv",
        "outputId": "48ccc3a1-1b5c-49fd-ae2f-3f8b143fbb4c"
      },
      "outputs": [
        {
          "data": {
            "text/plain": [
              "array([[0.49228944, 0.53024911, 0.48754448, ..., 0.47093713, 0.48754448,\n",
              "        0.48279953],\n",
              "       [0.53024911, 0.48754448, 0.46856465, ..., 0.48754448, 0.48279953,\n",
              "        0.45432977],\n",
              "       [0.48754448, 0.46856465, 0.47093713, ..., 0.48279953, 0.45432977,\n",
              "        0.42586002],\n",
              "       ...,\n",
              "       [0.07236062, 0.10794781, 0.09608541, ..., 0.07236062, 0.08422301,\n",
              "        0.14353499],\n",
              "       [0.10794781, 0.09608541, 0.03677343, ..., 0.08422301, 0.14353499,\n",
              "        0.15539739],\n",
              "       [0.09608541, 0.03677343, 0.07236062, ..., 0.14353499, 0.15539739,\n",
              "        0.19098458]])"
            ]
          },
          "execution_count": 10,
          "metadata": {},
          "output_type": "execute_result"
        }
      ],
      "source": [
        "X = dc(np.flip(X, axis=1))\n",
        "X"
      ]
    },
    {
      "cell_type": "code",
      "execution_count": 11,
      "id": "GCHslawXgE21",
      "metadata": {
        "colab": {
          "base_uri": "https://localhost:8080/"
        },
        "id": "GCHslawXgE21",
        "outputId": "a2e50719-a1fb-460e-9ce4-9dd873642765"
      },
      "outputs": [
        {
          "data": {
            "text/plain": [
              "3299"
            ]
          },
          "execution_count": 11,
          "metadata": {},
          "output_type": "execute_result"
        }
      ],
      "source": [
        "split_index = int(len(X) * 0.95)\n",
        "\n",
        "split_index"
      ]
    },
    {
      "cell_type": "code",
      "execution_count": 12,
      "id": "hhGMh_nAgiST",
      "metadata": {
        "colab": {
          "base_uri": "https://localhost:8080/"
        },
        "id": "hhGMh_nAgiST",
        "outputId": "aeb231ef-e124-4821-f4ee-dbb2275c0f98"
      },
      "outputs": [
        {
          "data": {
            "text/plain": [
              "((3299, 7), (174, 7), (3299,), (174,))"
            ]
          },
          "execution_count": 12,
          "metadata": {},
          "output_type": "execute_result"
        }
      ],
      "source": [
        "X_train = X[:split_index]\n",
        "X_test = X[split_index:]\n",
        "\n",
        "y_train = y[:split_index]\n",
        "y_test = y[split_index:]\n",
        "\n",
        "X_train.shape, X_test.shape, y_train.shape, y_test.shape"
      ]
    },
    {
      "cell_type": "code",
      "execution_count": 13,
      "id": "Muqs9hKYhMUS",
      "metadata": {
        "colab": {
          "base_uri": "https://localhost:8080/"
        },
        "id": "Muqs9hKYhMUS",
        "outputId": "d35136a0-5855-4bfb-b66b-b8f7a1a8ea96"
      },
      "outputs": [
        {
          "data": {
            "text/plain": [
              "((3299, 7, 1), (174, 7, 1), (3299, 1), (174, 1))"
            ]
          },
          "execution_count": 13,
          "metadata": {},
          "output_type": "execute_result"
        }
      ],
      "source": [
        "X_train = X_train.reshape((-1, lookback, 1))\n",
        "X_test = X_test.reshape((-1, lookback, 1))\n",
        "\n",
        "y_train = y_train.reshape((-1, 1))\n",
        "y_test = y_test.reshape((-1, 1))\n",
        "\n",
        "X_train.shape, X_test.shape, y_train.shape, y_test.shape"
      ]
    },
    {
      "cell_type": "code",
      "execution_count": 14,
      "id": "i7-PBcrMhR7z",
      "metadata": {
        "colab": {
          "base_uri": "https://localhost:8080/"
        },
        "id": "i7-PBcrMhR7z",
        "outputId": "b01a297a-75d6-4573-e450-a3545360112e"
      },
      "outputs": [
        {
          "data": {
            "text/plain": [
              "(torch.Size([3299, 7, 1]),\n",
              " torch.Size([174, 7, 1]),\n",
              " torch.Size([3299, 1]),\n",
              " torch.Size([174, 1]))"
            ]
          },
          "execution_count": 14,
          "metadata": {},
          "output_type": "execute_result"
        }
      ],
      "source": [
        "X_train = torch.tensor(X_train).float()\n",
        "y_train = torch.tensor(y_train).float()\n",
        "X_test = torch.tensor(X_test).float()\n",
        "y_test = torch.tensor(y_test).float()\n",
        "\n",
        "X_train.shape, X_test.shape, y_train.shape, y_test.shape"
      ]
    },
    {
      "cell_type": "code",
      "execution_count": 15,
      "id": "DWutCAGKhdqU",
      "metadata": {
        "id": "DWutCAGKhdqU"
      },
      "outputs": [],
      "source": [
        "from torch.utils.data import Dataset\n",
        "\n",
        "class TimeSeriesDataset(Dataset):\n",
        "    def __init__(self, X, y):\n",
        "        self.X = X\n",
        "        self.y = y\n",
        "\n",
        "    def __len__(self):\n",
        "        return len(self.X)\n",
        "\n",
        "    def __getitem__(self, i):\n",
        "        return self.X[i], self.y[i]\n",
        "\n",
        "train_dataset = TimeSeriesDataset(X_train, y_train)\n",
        "test_dataset = TimeSeriesDataset(X_test, y_test)"
      ]
    },
    {
      "cell_type": "code",
      "execution_count": 16,
      "id": "12OWUTa5ijoq",
      "metadata": {
        "colab": {
          "base_uri": "https://localhost:8080/"
        },
        "id": "12OWUTa5ijoq",
        "outputId": "0928d3c2-d181-4035-cc57-a2ac6ce38075"
      },
      "outputs": [
        {
          "data": {
            "text/plain": [
              "<__main__.TimeSeriesDataset at 0x1df719bf490>"
            ]
          },
          "execution_count": 16,
          "metadata": {},
          "output_type": "execute_result"
        }
      ],
      "source": [
        "train_dataset"
      ]
    },
    {
      "cell_type": "code",
      "execution_count": 17,
      "id": "XYsUmPl3ik46",
      "metadata": {
        "id": "XYsUmPl3ik46"
      },
      "outputs": [],
      "source": [
        "from torch.utils.data import DataLoader\n",
        "\n",
        "batch_size = 16\n",
        "\n",
        "train_loader = DataLoader(train_dataset, batch_size=batch_size, shuffle=True)\n",
        "test_loader = DataLoader(test_dataset, batch_size=batch_size, shuffle=False)"
      ]
    },
    {
      "cell_type": "code",
      "execution_count": 18,
      "id": "TJTnbgBDjOSK",
      "metadata": {
        "colab": {
          "base_uri": "https://localhost:8080/"
        },
        "id": "TJTnbgBDjOSK",
        "outputId": "51226616-d4de-4a22-f4d9-576fd3e8bfba"
      },
      "outputs": [
        {
          "name": "stdout",
          "output_type": "stream",
          "text": [
            "torch.Size([16, 7, 1]) torch.Size([16, 1])\n"
          ]
        }
      ],
      "source": [
        "for _, batch in enumerate(train_loader):\n",
        "    x_batch, y_batch = batch[0].to(device), batch[1].to(device)\n",
        "    print(x_batch.shape, y_batch.shape)\n",
        "    break"
      ]
    },
    {
      "cell_type": "code",
      "execution_count": 19,
      "id": "njdkq_kmjib5",
      "metadata": {
        "colab": {
          "base_uri": "https://localhost:8080/"
        },
        "id": "njdkq_kmjib5",
        "outputId": "db355c8d-cc21-43f5-cdfa-2156444b4531"
      },
      "outputs": [
        {
          "data": {
            "text/plain": [
              "LSTM(\n",
              "  (lstm): LSTM(1, 4, batch_first=True)\n",
              "  (fc): Linear(in_features=4, out_features=1, bias=True)\n",
              ")"
            ]
          },
          "execution_count": 19,
          "metadata": {},
          "output_type": "execute_result"
        }
      ],
      "source": [
        "class LSTM(nn.Module):\n",
        "    def __init__(self, input_size, hidden_size, num_stacked_layers):\n",
        "        super().__init__()\n",
        "        self.hidden_size = hidden_size\n",
        "        self.num_stacked_layers = num_stacked_layers\n",
        "\n",
        "        self.lstm = nn.LSTM(input_size, hidden_size, num_stacked_layers,\n",
        "                            batch_first=True)\n",
        "\n",
        "        self.fc = nn.Linear(hidden_size, 1)\n",
        "\n",
        "    def forward(self, x):\n",
        "        batch_size = x.size(0)\n",
        "        h0 = torch.zeros(self.num_stacked_layers, batch_size, self.hidden_size).to(device)\n",
        "        c0 = torch.zeros(self.num_stacked_layers, batch_size, self.hidden_size).to(device)\n",
        "\n",
        "        out, _ = self.lstm(x, (h0, c0))\n",
        "        out = self.fc(out[:, -1, :])\n",
        "        return out\n",
        "\n",
        "model = LSTM(1, 4, 1)\n",
        "model.to(device)\n",
        "model"
      ]
    },
    {
      "cell_type": "code",
      "execution_count": 20,
      "id": "iue5WvTxmVKB",
      "metadata": {
        "id": "iue5WvTxmVKB"
      },
      "outputs": [],
      "source": [
        "def train_one_epoch():\n",
        "    model.train(True)\n",
        "    print(f'Epoch: {epoch + 1}')\n",
        "    running_loss = 0.0\n",
        "\n",
        "    for batch_index, batch in enumerate(train_loader):\n",
        "        x_batch, y_batch = batch[0].to(device), batch[1].to(device)\n",
        "\n",
        "        output = model(x_batch)\n",
        "        loss = loss_function(output, y_batch)\n",
        "        running_loss += loss.item()\n",
        "\n",
        "        optimizer.zero_grad()\n",
        "        loss.backward()\n",
        "        optimizer.step()\n",
        "\n",
        "        if batch_index % 100 == 99:  # print every 100 batches\n",
        "            avg_loss_across_batches = running_loss / 100\n",
        "            print('Batch {0}, Loss: {1:.3f}'.format(batch_index+1,\n",
        "                                                    avg_loss_across_batches))\n",
        "            running_loss = 0.0\n",
        "    print()"
      ]
    },
    {
      "cell_type": "code",
      "execution_count": 21,
      "id": "gRmNuV3cmy-t",
      "metadata": {
        "id": "gRmNuV3cmy-t"
      },
      "outputs": [],
      "source": [
        "def validate_one_epoch():\n",
        "    model.train(False)\n",
        "    running_loss = 0.0\n",
        "\n",
        "    for batch_index, batch in enumerate(test_loader):\n",
        "        x_batch, y_batch = batch[0].to(device), batch[1].to(device)\n",
        "\n",
        "        with torch.no_grad():\n",
        "            output = model(x_batch)\n",
        "            loss = loss_function(output, y_batch)\n",
        "            running_loss += loss.item()\n",
        "\n",
        "    avg_loss_across_batches = running_loss / len(test_loader)\n",
        "\n",
        "    print('Val Loss: {0:.3f}'.format(avg_loss_across_batches))\n",
        "    print('***************************************************')\n",
        "    print()"
      ]
    },
    {
      "cell_type": "code",
      "execution_count": 22,
      "id": "1jgb1aJ3lxlQ",
      "metadata": {
        "colab": {
          "base_uri": "https://localhost:8080/"
        },
        "id": "1jgb1aJ3lxlQ",
        "outputId": "2a25db36-4872-44e4-feca-4d26bad49f96"
      },
      "outputs": [
        {
          "name": "stdout",
          "output_type": "stream",
          "text": [
            "Epoch: 1\n",
            "Batch 100, Loss: 0.234\n",
            "Batch 200, Loss: 0.130\n",
            "\n",
            "Val Loss: 0.133\n",
            "***************************************************\n",
            "\n",
            "Epoch: 2\n",
            "Batch 100, Loss: 0.063\n",
            "Batch 200, Loss: 0.020\n",
            "\n",
            "Val Loss: 0.009\n",
            "***************************************************\n",
            "\n",
            "Epoch: 3\n",
            "Batch 100, Loss: 0.009\n",
            "Batch 200, Loss: 0.006\n",
            "\n",
            "Val Loss: 0.009\n",
            "***************************************************\n",
            "\n",
            "Epoch: 4\n",
            "Batch 100, Loss: 0.005\n",
            "Batch 200, Loss: 0.005\n",
            "\n",
            "Val Loss: 0.008\n",
            "***************************************************\n",
            "\n",
            "Epoch: 5\n",
            "Batch 100, Loss: 0.004\n",
            "Batch 200, Loss: 0.004\n",
            "\n",
            "Val Loss: 0.007\n",
            "***************************************************\n",
            "\n",
            "Epoch: 6\n",
            "Batch 100, Loss: 0.004\n",
            "Batch 200, Loss: 0.003\n",
            "\n",
            "Val Loss: 0.007\n",
            "***************************************************\n",
            "\n",
            "Epoch: 7\n",
            "Batch 100, Loss: 0.003\n",
            "Batch 200, Loss: 0.003\n",
            "\n",
            "Val Loss: 0.006\n",
            "***************************************************\n",
            "\n",
            "Epoch: 8\n",
            "Batch 100, Loss: 0.003\n",
            "Batch 200, Loss: 0.003\n",
            "\n",
            "Val Loss: 0.006\n",
            "***************************************************\n",
            "\n",
            "Epoch: 9\n",
            "Batch 100, Loss: 0.003\n",
            "Batch 200, Loss: 0.002\n",
            "\n",
            "Val Loss: 0.005\n",
            "***************************************************\n",
            "\n",
            "Epoch: 10\n",
            "Batch 100, Loss: 0.002\n",
            "Batch 200, Loss: 0.002\n",
            "\n",
            "Val Loss: 0.005\n",
            "***************************************************\n",
            "\n"
          ]
        }
      ],
      "source": [
        "learning_rate = 0.001\n",
        "num_epochs = 10\n",
        "loss_function = nn.MSELoss()\n",
        "optimizer = torch.optim.Adam(model.parameters(), lr=learning_rate)\n",
        "\n",
        "for epoch in range(num_epochs):\n",
        "    train_one_epoch()\n",
        "    validate_one_epoch()"
      ]
    },
    {
      "cell_type": "code",
      "execution_count": 23,
      "id": "-Xon2PHWno7t",
      "metadata": {
        "colab": {
          "base_uri": "https://localhost:8080/",
          "height": 449
        },
        "id": "-Xon2PHWno7t",
        "outputId": "862b1d87-3e42-4fe1-8618-3cf0720e0da5"
      },
      "outputs": [
        {
          "name": "stdout",
          "output_type": "stream",
          "text": [
            "tensor([[ 0.4543],\n",
            "        [ 0.4259],\n",
            "        [ 0.4140],\n",
            "        ...,\n",
            "        [-0.0581],\n",
            "        [-0.0344],\n",
            "        [-0.0225]])\n"
          ]
        },
        {
          "data": {
            "image/png": "[encoded data removed]",
            "text/plain": [
              "<Figure size 640x480 with 1 Axes>"
            ]
          },
          "metadata": {},
          "output_type": "display_data"
        }
      ],
      "source": [
        "with torch.no_grad():\n",
        "    predicted = model(X_train.to(device)).to('cpu').numpy()\n",
        "print(y_train)\n",
        "plt.plot(y_train, label='Actual Close')\n",
        "plt.plot(predicted, label='Predicted Close')\n",
        "plt.xlabel('Day')\n",
        "plt.ylabel('close')\n",
        "plt.legend()\n",
        "plt.show()\n"
      ]
    },
    {
      "cell_type": "code",
      "execution_count": 24,
      "id": "d3SDgEvPpOcD",
      "metadata": {
        "colab": {
          "base_uri": "https://localhost:8080/"
        },
        "id": "d3SDgEvPpOcD",
        "outputId": "e9b8491e-b15e-4aa5-ae97-6619bb4a3be9"
      },
      "outputs": [
        {
          "data": {
            "text/plain": [
              "array([94.31059467, 93.93346795, 93.33802427, ..., 71.21073211,\n",
              "       71.5427175 , 72.14462165])"
            ]
          },
          "execution_count": 24,
          "metadata": {},
          "output_type": "execute_result"
        }
      ],
      "source": [
        "train_predictions = predicted.flatten()\n",
        "\n",
        "dummies = np.zeros((X_train.shape[0], lookback+1))\n",
        "dummies[:, 0] = train_predictions\n",
        "dummies = scaler.inverse_transform(dummies)\n",
        "\n",
        "train_predictions = dc(dummies[:, 0])\n",
        "train_predictions"
      ]
    },
    {
      "cell_type": "code",
      "execution_count": 25,
      "id": "PHnvejOdrL7Q",
      "metadata": {
        "colab": {
          "base_uri": "https://localhost:8080/"
        },
        "id": "PHnvejOdrL7Q",
        "outputId": "952cb861-3f21-42d2-f1b2-9e489c9cdcd7"
      },
      "outputs": [
        {
          "data": {
            "text/plain": [
              "array([93.60000059, 92.39999974, 91.8999997 , ..., 71.99999998,\n",
              "       73.00000007, 73.50000003])"
            ]
          },
          "execution_count": 25,
          "metadata": {},
          "output_type": "execute_result"
        }
      ],
      "source": [
        "dummies = np.zeros((X_train.shape[0], lookback+1))\n",
        "dummies[:, 0] = y_train.flatten()\n",
        "dummies = scaler.inverse_transform(dummies)\n",
        "\n",
        "new_y_train = dc(dummies[:, 0])\n",
        "new_y_train"
      ]
    },
    {
      "cell_type": "code",
      "execution_count": 26,
      "id": "2LlDAUtyrcrN",
      "metadata": {
        "colab": {
          "base_uri": "https://localhost:8080/",
          "height": 449
        },
        "id": "2LlDAUtyrcrN",
        "outputId": "819c2ff2-be0d-4781-d164-915936251f66"
      },
      "outputs": [
        {
          "data": {
            "image/png": "[encoded data removed]",
            "text/plain": [
              "<Figure size 640x480 with 1 Axes>"
            ]
          },
          "metadata": {},
          "output_type": "display_data"
        }
      ],
      "source": [
        "plt.plot(new_y_train, label='Actual Close')\n",
        "plt.plot(train_predictions, label='Predicted Close')\n",
        "plt.xlabel('Day')\n",
        "plt.ylabel('close')\n",
        "plt.legend()\n",
        "plt.show()\n"
      ]
    },
    {
      "cell_type": "code",
      "execution_count": 30,
      "metadata": {},
      "outputs": [
        {
          "data": {
            "text/plain": [
              "tensor([[[-0.1056],\n",
              "         [-0.0937],\n",
              "         [-0.0700],\n",
              "         ...,\n",
              "         [-0.0581],\n",
              "         [-0.0344],\n",
              "         [-0.0225]],\n",
              "\n",
              "        [[-0.0937],\n",
              "         [-0.0700],\n",
              "         [-0.0700],\n",
              "         ...,\n",
              "         [-0.0344],\n",
              "         [-0.0225],\n",
              "         [-0.0581]],\n",
              "\n",
              "        [[-0.0700],\n",
              "         [-0.0700],\n",
              "         [-0.0581],\n",
              "         ...,\n",
              "         [-0.0225],\n",
              "         [-0.0581],\n",
              "         [-0.0344]],\n",
              "\n",
              "        ...,\n",
              "\n",
              "        [[ 0.0724],\n",
              "         [ 0.1079],\n",
              "         [ 0.0961],\n",
              "         ...,\n",
              "         [ 0.0724],\n",
              "         [ 0.0842],\n",
              "         [ 0.1435]],\n",
              "\n",
              "        [[ 0.1079],\n",
              "         [ 0.0961],\n",
              "         [ 0.0368],\n",
              "         ...,\n",
              "         [ 0.0842],\n",
              "         [ 0.1435],\n",
              "         [ 0.1554]],\n",
              "\n",
              "        [[ 0.0961],\n",
              "         [ 0.0368],\n",
              "         [ 0.0724],\n",
              "         ...,\n",
              "         [ 0.1435],\n",
              "         [ 0.1554],\n",
              "         [ 0.1910]]])"
            ]
          },
          "execution_count": 30,
          "metadata": {},
          "output_type": "execute_result"
        }
      ],
      "source": [
        "X_test"
      ]
    },
    {
      "cell_type": "code",
      "execution_count": 27,
      "id": "yYeC2JMorftR",
      "metadata": {
        "colab": {
          "base_uri": "https://localhost:8080/"
        },
        "id": "yYeC2JMorftR",
        "outputId": "94df7137-866f-42aa-cb02-5a78961f6779"
      },
      "outputs": [
        {
          "data": {
            "text/plain": [
              "array([72.70107608, 72.53131723, 72.86327875, 73.01056381, 73.1136192 ,\n",
              "       72.98035674, 73.26649985, 73.02558852, 73.13864457, 73.53891368,\n",
              "       73.95727788, 74.42268557, 73.60942803, 72.42526793, 71.70262893,\n",
              "       70.95854856, 70.60813173, 71.44950608, 72.63933244, 72.34538978,\n",
              "       72.56969065, 73.64019787, 73.69891995, 72.86123748, 72.3214981 ,\n",
              "       73.0186171 , 73.40752072, 74.05124081, 75.15756106, 76.63699552,\n",
              "       76.35425536, 77.29048483, 77.16774529, 77.35076016, 76.47358692,\n",
              "       74.60674997, 73.98705974, 72.3701209 , 71.70595463, 71.00949182,\n",
              "       70.35518286, 70.1845827 , 70.1189385 , 69.85764239, 69.77413486,\n",
              "       69.31019312, 69.42886644, 69.08301893, 69.07219076, 69.22497469,\n",
              "       68.56238382, 68.39854058, 68.45795418, 68.25900545, 68.92627555,\n",
              "       68.89828751, 69.12850539, 68.74486104, 68.73251103, 69.05472375,\n",
              "       68.47369208, 69.07517541, 69.00459888, 68.44304159, 68.54093035,\n",
              "       68.15368834, 67.53564369, 67.9444183 , 67.49346659, 67.10371915,\n",
              "       66.69745687, 66.03510341, 65.45376398, 66.01705479, 66.04703826,\n",
              "       65.95708659, 65.9397766 , 65.56947212, 65.75922005, 65.65010805,\n",
              "       65.16331222, 64.88474882, 63.57731798, 61.88633134, 61.73649815,\n",
              "       60.73589887, 60.67952332, 60.59030902, 61.45702341, 62.04955529,\n",
              "       62.17274642, 62.81140604, 71.21565975, 76.40851177, 80.44721934,\n",
              "       83.76462935, 85.91694867, 87.34412372, 88.43504146, 88.61563444,\n",
              "       88.71329898, 88.58925743, 87.83224292, 87.39511032, 87.07096247,\n",
              "       87.14651344, 87.31163796, 87.41705557, 87.35968889, 87.40057465,\n",
              "       87.09301701, 86.9134968 , 86.91410856, 86.70296307, 86.58042138,\n",
              "       86.50485157, 86.11543701, 85.39588897, 84.94377908, 84.93670434,\n",
              "       84.36078779, 84.20508076, 84.58859133, 84.12206816, 84.2909034 ,\n",
              "       85.03911719, 85.6217467 , 85.38110011, 85.1370807 , 86.31280737,\n",
              "       87.30764586, 87.95202858, 88.06102501, 86.87062882, 85.74132007,\n",
              "       84.77827393, 84.132728  , 83.06219911, 82.02009605, 81.36490652,\n",
              "       80.26685373, 80.53531566, 80.58457   , 80.625506  , 81.78398171,\n",
              "       82.65561525, 83.10515754, 82.98250531, 82.02030081, 82.70049311,\n",
              "       82.24128586, 83.1902491 , 83.6666269 , 82.82255243, 81.38313226,\n",
              "       80.17234343, 79.59677013, 79.13470196, 79.81082334, 79.2401761 ,\n",
              "       78.91953359, 78.79633493, 79.08897431, 78.65299989, 77.86119645,\n",
              "       77.86414656, 78.38976928, 78.51023829, 77.708486  , 77.82171006,\n",
              "       78.03218539, 79.10240337, 79.86515511, 80.91073399])"
            ]
          },
          "execution_count": 27,
          "metadata": {},
          "output_type": "execute_result"
        }
      ],
      "source": [
        "test_predictions = model(X_test.to(device)).detach().cpu().numpy().flatten()\n",
        "\n",
        "dummies = np.zeros((X_test.shape[0], lookback+1))\n",
        "dummies[:, 0] = test_predictions\n",
        "dummies = scaler.inverse_transform(dummies)\n",
        "\n",
        "test_predictions = dc(dummies[:, 0])\n",
        "test_predictions"
      ]
    },
    {
      "cell_type": "code",
      "execution_count": 28,
      "id": "g-DJXBgYsFyI",
      "metadata": {
        "colab": {
          "base_uri": "https://localhost:8080/"
        },
        "id": "g-DJXBgYsFyI",
        "outputId": "b606685e-137b-41ef-8a56-6171133ed013"
      },
      "outputs": [
        {
          "data": {
            "text/plain": [
              "array([71.99999998, 73.00000007, 73.00000007, 73.00000007, 72.50000003,\n",
              "       73.50000003, 72.50000003, 73.00000007, 73.99999999, 74.5       ,\n",
              "       75.        , 71.99999998, 70.00000013, 70.00000013, 69.50000009,\n",
              "       70.00000013, 73.00000007, 75.        , 71.99999998, 72.50000003,\n",
              "       75.        , 73.50000003, 70.9999999 , 70.9999999 , 73.99999999,\n",
              "       73.99999999, 75.        , 76.99999993, 78.99999994, 75.49999996,\n",
              "       77.99999986, 76.50000005, 76.99999993, 74.5       , 70.9999999 ,\n",
              "       72.50000003, 69.50000009, 70.49999986, 70.00000013, 69.50000009,\n",
              "       70.00000013, 70.00000013, 69.50000009, 69.50000009, 68.50000001,\n",
              "       69.50000009, 68.50000001, 69.00000005, 69.50000009, 67.49999992,\n",
              "       67.99999996, 68.50000001, 67.99999996, 70.00000013, 69.00000005,\n",
              "       69.50000009, 67.99999996, 68.50000001, 69.50000009, 67.49999992,\n",
              "       70.00000013, 69.00000005, 67.49999992, 68.50000001, 67.49999992,\n",
              "       66.49999984, 68.50000001, 66.99999988, 66.49999984, 65.9999998 ,\n",
              "       64.99999971, 64.5000003 , 66.99999988, 66.49999984, 65.9999998 ,\n",
              "       65.9999998 , 64.99999971, 65.9999998 , 65.49999976, 64.5000003 ,\n",
              "       64.5000003 , 61.49999942, 59.00000047, 61.49999942, 59.50000051,\n",
              "       60.99999938, 60.99999938, 63.49999959, 63.49999959, 62.49999951,\n",
              "       64.00000026, 85.50000017, 86.50000025, 87.50000034, 89.00000046,\n",
              "       88.50000042, 88.00000038, 88.50000042, 88.50000042, 88.50000042,\n",
              "       88.00000038, 86.00000021, 86.00000021, 86.00000021, 87.00000029,\n",
              "       87.50000034, 87.50000034, 87.00000029, 87.00000029, 86.00000021,\n",
              "       86.00000021, 86.50000025, 86.00000021, 86.00000021, 86.00000021,\n",
              "       85.00000013, 83.5       , 83.5       , 84.50000008, 82.99999996,\n",
              "       83.5       , 85.00000013, 82.99999996, 84.00000004, 86.00000021,\n",
              "       86.50000025, 84.50000008, 84.00000004, 88.00000038, 89.00000046,\n",
              "       89.00000046, 88.00000038, 84.00000004, 82.49999992, 81.99999988,\n",
              "       82.49999992, 80.99999979, 79.99999971, 79.99999971, 77.99999986,\n",
              "       80.49999975, 80.49999975, 80.49999975, 83.5       , 84.00000004,\n",
              "       83.5       , 81.99999988, 79.49999998, 82.99999996, 80.99999979,\n",
              "       84.50000008, 84.50000008, 80.99999979, 77.99999986, 76.99999993,\n",
              "       77.99999986, 77.99999986, 80.99999979, 78.4999999 , 77.99999986,\n",
              "       77.99999986, 78.99999994, 77.50000013, 76.        , 77.50000013,\n",
              "       78.99999994, 78.4999999 , 76.        , 77.50000013, 77.99999986,\n",
              "       80.49999975, 80.99999979, 82.49999992, 82.49999992])"
            ]
          },
          "execution_count": 28,
          "metadata": {},
          "output_type": "execute_result"
        }
      ],
      "source": [
        "dummies = np.zeros((X_test.shape[0], lookback+1))\n",
        "dummies[:, 0] = y_test.flatten()\n",
        "dummies = scaler.inverse_transform(dummies)\n",
        "\n",
        "new_y_test = dc(dummies[:, 0])\n",
        "new_y_test"
      ]
    },
    {
      "cell_type": "code",
      "execution_count": 29,
      "id": "PhLmIlHOsSK4",
      "metadata": {
        "colab": {
          "base_uri": "https://localhost:8080/",
          "height": 449
        },
        "id": "PhLmIlHOsSK4",
        "outputId": "09c21535-ea22-4d65-bc50-b159bd4dc135"
      },
      "outputs": [
        {
          "data": {
            "image/png": "[encoded data removed]",
            "text/plain": [
              "<Figure size 640x480 with 1 Axes>"
            ]
          },
          "metadata": {},
          "output_type": "display_data"
        }
      ],
      "source": [
        "plt.plot(new_y_test, label='Actual Close')\n",
        "plt.plot(test_predictions, label='Predicted Close')\n",
        "plt.xlabel('Day')\n",
        "plt.ylabel('close')\n",
        "plt.legend()\n",
        "plt.show()\n"
      ]
    },
    {
      "cell_type": "code",
      "execution_count": null,
      "id": "-CuelDg2seDP",
      "metadata": {
        "id": "-CuelDg2seDP"
      },
      "outputs": [],
      "source": []
    }
  ],
  "metadata": {
    "colab": {
      "gpuType": "T4",
      "provenance": []
    },
    "gpuClass": "standard",
    "kernelspec": {
      "display_name": "Python 3",
      "name": "python3"
    },
    "language_info": {
      "codemirror_mode": {
        "name": "ipython",
        "version": 3
      },
      "file_extension": ".py",
      "mimetype": "text/x-python",
      "name": "python",
      "nbconvert_exporter": "python",
      "pygments_lexer": "ipython3",
      "version": "3.11.4"
    }
  },
  "nbformat": 4,
  "nbformat_minor": 5
}
